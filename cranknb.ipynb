{
 "metadata": {
  "name": ""
 },
 "nbformat": 3,
 "nbformat_minor": 0,
 "worksheets": [
  {
   "cells": [
    {
     "cell_type": "code",
     "collapsed": false,
     "input": [
      "%pylab inline"
     ],
     "language": "python",
     "metadata": {},
     "outputs": [
      {
       "output_type": "stream",
       "stream": "stdout",
       "text": [
        "Populating the interactive namespace from numpy and matplotlib\n"
       ]
      }
     ],
     "prompt_number": 1
    },
    {
     "cell_type": "code",
     "collapsed": false,
     "input": [
      "import numpy as np\n",
      "import matplotlib.pyplot as plt\n",
      "\n",
      "# Local modules\n",
      "from crank import *\n",
      "from plotutil import *\n",
      "from util import *\n",
      "from animate import *\n",
      "\n",
      "# http://github.com/jakevdp/JSAnimation\n",
      "from JSAnimation.IPython_display import display_animation"
     ],
     "language": "python",
     "metadata": {},
     "outputs": [],
     "prompt_number": "*"
    },
    {
     "cell_type": "code",
     "collapsed": false,
     "input": [
      "n = 1000\n",
      "dt = 0.001\n",
      "\n",
      "# An e/cmpty square well potential\n",
      "potEmpty = np.zeros((n,n))\n",
      "\n",
      "# Obtain a Crank Nicolson evolution functor\n",
      "evoEmptyWell  = getCrankNicolEvo(potEmpty, BoundaryType.REFLECTING, dt)\n",
      "evoEmptySpace = getCrankNicolEvo(potEmpty, BoundaryType.PERIODIC,   dt)\n"
     ],
     "language": "python",
     "metadata": {},
     "outputs": [],
     "prompt_number": "*"
    },
    {
     "cell_type": "markdown",
     "metadata": {},
     "source": [
      "Before checking anything else, \n",
      "\n",
      "For instance, the ground state of the 2D square well is\n",
      "$$\n",
      "\\Psi = \\frac{2}{L}\\sin\\left(\\frac{\\pi x}{L}\\right)\\sin\\left(\\frac{\\pi y}{L}\\right).\n",
      "$$\n",
      "Because any eigenfunction of the hamiltonian $\\hat{H}$ will also be an eigenfunction of the time evolution operator $\\hat{U}(t)\\equiv e^{-i\\hat{H}t/\\hbar}$, one would expect that the probability distribution of the wavefunction will remain constant over time.  Is this the case with our Crank Nicolson evolution function?"
     ]
    },
    {
     "cell_type": "code",
     "collapsed": false,
     "input": [
      "# Construct the 2D well ground state\n",
      "def twoDeeGroundState(n,m):\n",
      "    ys = np.linspace(0., np.pi, n+2)[1:-1] # Shifted because the boundary conditions\n",
      "    xs = np.linspace(0., np.pi, m+2)[1:-1] #  are not a part of our solution vector\n",
      "    psigrid = np.outer(np.sin(ys), np.sin(xs))\n",
      "    return normalize(psigrid.flatten())\n",
      "\n",
      "psi = twoDeeGroundState(n,n)\n",
      "evo = evoEmptyWell\n",
      "anim = timeEvoAnimation(psi, evo, (ProbPlotter(), PhasePlotter()), 10)\n",
      "display_animation(anim, default_mode='once')"
     ],
     "language": "python",
     "metadata": {},
     "outputs": [],
     "prompt_number": "*"
    },
    {
     "cell_type": "markdown",
     "metadata": {},
     "source": [
      "Indeed it is!  Only the phase changes over time, and it changes by a constant amount.\n",
      "\n",
      "We can test this against other eigenvectors as well.  `getEigens` is a eigenvector solver borrowed from a past project..."
     ]
    },
    {
     "cell_type": "code",
     "collapsed": false,
     "input": [
      "epsis, evals = getEigens(potEmpty, BoundaryType.REFLECTING, 8)\n",
      "\n",
      "psi = epsis[2]\n",
      "evo = evoEmptyWell\n",
      "anim = timeEvoAnimation(psi, evo, (ProbPlotter(), PhasePlotter()), 10, frameStep=10)\n",
      "display_animation(anim, default_mode='once')"
     ],
     "language": "python",
     "metadata": {},
     "outputs": [],
     "prompt_number": "*"
    },
    {
     "cell_type": "markdown",
     "metadata": {},
     "source": [
      "How a wavefunction that shouldn't be an eigenfunction?  To achieve this, we take two eigenfunctions of different energy, and add them together."
     ]
    },
    {
     "cell_type": "code",
     "collapsed": false,
     "input": [
      "psi = normalize(epsis[2] + epsis[4])\n",
      "print(\" First energy: {:.4f}\".format(evals[2]))\n",
      "print(\"Second energy: {:.4f}\".format(evals[4]))\n",
      "anim = timeEvoAnimation(psi, evoEmptyWell, (ProbPlotter(), PhasePlotter()), 10, frameStep=10)\n",
      "display_animation(anim, default_mode='once')"
     ],
     "language": "python",
     "metadata": {},
     "outputs": [],
     "prompt_number": "*"
    },
    {
     "cell_type": "markdown",
     "metadata": {},
     "source": [
      "This one changes over time, as expected!\n",
      "\n",
      "The assignment also asks about periodic boundary conditions.\n",
      "\n",
      "@@@@@@@@ EQUATION FOR PLANE WAVE"
     ]
    },
    {
     "cell_type": "code",
     "collapsed": false,
     "input": [
      "#psi = np.outer(np.sin(np.linspace(0.,4*np.pi,n+2)[1:-1]),np.ones(n))\n",
      "psi = np.outer(np.exp(-1j*np.linspace(0.,2*np.pi,n)),np.ones(n))\n",
      "psi = psi.flatten()\n",
      "psi = normalize(psi)\n",
      "anim = timeEvoAnimation(psi, evoEmptySpace, (PhasePlotter(),), 100, frameStep=10)\n",
      "display_animation(anim, default_mode='once')"
     ],
     "language": "python",
     "metadata": {},
     "outputs": [],
     "prompt_number": "*"
    },
    {
     "cell_type": "markdown",
     "metadata": {},
     "source": [
      "I have left out the plot of probability above as the plane wave has equal probability at all points in space."
     ]
    },
    {
     "cell_type": "code",
     "collapsed": false,
     "input": [],
     "language": "python",
     "metadata": {},
     "outputs": [],
     "prompt_number": "*"
    }
   ],
   "metadata": {}
  }
 ]
}